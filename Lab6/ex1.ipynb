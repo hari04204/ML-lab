{
 "cells": [
  {
   "cell_type": "code",
   "execution_count": 129,
   "id": "02795d37-4e58-4eac-b156-ef7fda1f9c72",
   "metadata": {
    "tags": []
   },
   "outputs": [],
   "source": [
    "import numpy as np\n",
    "import pandas as pd"
   ]
  },
  {
   "cell_type": "code",
   "execution_count": 130,
   "id": "6059f442-0319-404f-b9d3-e779f154081d",
   "metadata": {
    "tags": []
   },
   "outputs": [],
   "source": [
    "df = pd.read_excel(\"dataset.xlsx\").drop(columns=[\"RID\"])"
   ]
  },
  {
   "cell_type": "code",
   "execution_count": 131,
   "id": "44065b8d-2efd-4722-b5c8-8ecfe04ef7c0",
   "metadata": {
    "tags": []
   },
   "outputs": [],
   "source": [
    "def entropy(df):\n",
    "    labels = df[df.columns[-1]]\n",
    "    labelCounts = Counter(labels)\n",
    "    totalSamples = len(labels)\n",
    "    return -sum((count/totalSamples) * np.log2(count/totalSamples) for count in labelCounts.values())"
   ]
  },
  {
   "cell_type": "code",
   "execution_count": 132,
   "id": "e54da2a1-b6ed-4b6d-80e9-2c5f80140cd3",
   "metadata": {
    "tags": []
   },
   "outputs": [],
   "source": [
    "def infoGain(df,attributeIndex):\n",
    "    totalEntropy = entropy(df)\n",
    "    values = set(df[attributeIndex])\n",
    "    \n",
    "    weightedEntropy = sum(\n",
    "        (len(subset) / len(df)) * entropy(subset)\n",
    "        for value in values\n",
    "        for subset in [df[df[attributeIndex] == value]]\n",
    "    )\n",
    "    return totalEntropy - weightedEntropy"
   ]
  },
  {
   "cell_type": "code",
   "execution_count": 144,
   "id": "96a00697-e8e5-471a-b0ae-ca036c4f39be",
   "metadata": {
    "tags": []
   },
   "outputs": [],
   "source": [
    "def entropyPerAttribute(data):\n",
    "    attributes = data.columns[:-1]\n",
    "    entropy_values = {}\n",
    "    for attribute in attributes:\n",
    "        values = data[attribute].unique()\n",
    "        entropy_sum = 0\n",
    "        for value in values:\n",
    "            subset = data[data[attribute] == value]\n",
    "            if not subset.empty:\n",
    "                entropy_sum += (len(subset) / len(data)) * entropy(subset)\n",
    "        entropy_values[attribute] = entropy_sum\n",
    "    return entropy_values"
   ]
  },
  {
   "cell_type": "code",
   "execution_count": 134,
   "id": "39602cb8-35e7-4c45-b11e-835a9b3e24ff",
   "metadata": {
    "tags": []
   },
   "outputs": [],
   "source": [
    "def bestAttributeId3(df):\n",
    "    bestIndex = max(range(len(df.columns) - 1),key=lambda i: infoGain(df,df.columns[i]))\n",
    "    return df.columns[bestIndex]"
   ]
  },
  {
   "cell_type": "code",
   "execution_count": 145,
   "id": "7b03030a",
   "metadata": {
    "tags": []
   },
   "outputs": [
    {
     "name": "stdout",
     "output_type": "stream",
     "text": [
      "Best Attribute for splitting: Age\n"
     ]
    }
   ],
   "source": [
    "print(f\"Best Attribute for splitting: {bestAttributeId3(df)}\")"
   ]
  },
  {
   "cell_type": "code",
   "execution_count": 136,
   "id": "e92018d6-8e1b-4b21-834f-b5d2911a5de1",
   "metadata": {
    "tags": []
   },
   "outputs": [
    {
     "name": "stdout",
     "output_type": "stream",
     "text": [
      "Entropy for each attribute: {'Age': 0.6935361388961918, 'Income': 0.9110633930116763, 'Student': 0.7884504573082896, 'Credit_rating': 0.8921589282623617}\n"
     ]
    }
   ],
   "source": [
    "entropy_values = entropyPerAttribute(df)\n",
    "print(f\"Entropy for each attribute: {entropy_values}\")"
   ]
  },
  {
   "cell_type": "code",
   "execution_count": 137,
   "id": "2664dce5-8ddb-4a0b-a547-e4ad17823be3",
   "metadata": {
    "tags": []
   },
   "outputs": [],
   "source": [
    "def gini_index(data):\n",
    "    labels = data.iloc[:, -1]\n",
    "    label_counts = labels.value_counts()\n",
    "    total_samples = len(labels)\n",
    "    return 1 - sum((count / total_samples) ** 2 for count in label_counts)"
   ]
  },
  {
   "cell_type": "code",
   "execution_count": 138,
   "id": "c28b6c95-6db5-47c1-83b7-5b4c61b546be",
   "metadata": {
    "tags": []
   },
   "outputs": [],
   "source": [
    "def gini_attribute(data, attribute):\n",
    "    values = data[attribute].unique()\n",
    "    return sum(\n",
    "        (len(subset) / len(data)) * gini_index(subset)\n",
    "        for value in values\n",
    "        for subset in [data[data[attribute] == value]]\n",
    "    )"
   ]
  },
  {
   "cell_type": "code",
   "execution_count": 139,
   "id": "b5191bd7-f7f4-470f-ae92-656a546227c7",
   "metadata": {
    "tags": []
   },
   "outputs": [],
   "source": [
    "def best_attribute_cart(data):\n",
    "    return min(data.columns[:-1], key=lambda attr: gini_attribute(data, attr))"
   ]
  },
  {
   "cell_type": "code",
   "execution_count": 140,
   "id": "658582e2-2eeb-4371-9f64-651d8c0ceeb5",
   "metadata": {
    "tags": []
   },
   "outputs": [],
   "source": [
    "def cart_tree(data, depth=0):\n",
    "    if len(data.iloc[:, -1].unique()) == 1:  # If all labels are the same\n",
    "        return data.iloc[0, -1]\n",
    "    if depth >= 5 or len(data.columns) == 1:  # Limit depth or prevent empty attribute selection\n",
    "        return data.iloc[:, -1].mode()[0]\n",
    "    \n",
    "    best_attr = best_attribute_cart(data)\n",
    "    tree = {best_attr: {}}\n",
    "    \n",
    "    for value in data[best_attr].unique():\n",
    "        subset = data[data[best_attr] == value].drop(columns=[best_attr])\n",
    "        tree[best_attr][value] = cart_tree(subset, depth + 1)\n",
    "    \n",
    "    return tree"
   ]
  },
  {
   "cell_type": "code",
   "execution_count": 141,
   "id": "a604491a-ac8a-491d-9f00-e73b1aee8a6e",
   "metadata": {
    "tags": []
   },
   "outputs": [
    {
     "name": "stdout",
     "output_type": "stream",
     "text": [
      "Best Attribute for splitting: Age\n"
     ]
    }
   ],
   "source": [
    "print(f\"Best Attribute for splitting: {best_attribute_cart(df)}\")"
   ]
  },
  {
   "cell_type": "code",
   "execution_count": 142,
   "id": "8e6b8de2-35f7-4bea-8933-5a735c62090e",
   "metadata": {
    "tags": []
   },
   "outputs": [],
   "source": [
    "cart_result = cart_tree(df)"
   ]
  },
  {
   "cell_type": "code",
   "execution_count": 143,
   "id": "2512c17e-12a6-42f1-830a-386d7939016a",
   "metadata": {
    "tags": []
   },
   "outputs": [
    {
     "data": {
      "text/plain": [
       "{'Age': {'youth': {'Student': {'no': 'no', 'yes': 'yes'}},\n",
       "  'middle_aged': 'yes',\n",
       "  'senior': {'Credit_rating': {'fair': 'yes', 'excellent': 'no'}}}}"
      ]
     },
     "execution_count": 143,
     "metadata": {},
     "output_type": "execute_result"
    }
   ],
   "source": [
    "cart_result"
   ]
  }
 ],
 "metadata": {
  "kernelspec": {
   "display_name": "Python 3 (ipykernel)",
   "language": "python",
   "name": "python3"
  },
  "language_info": {
   "codemirror_mode": {
    "name": "ipython",
    "version": 3
   },
   "file_extension": ".py",
   "mimetype": "text/x-python",
   "name": "python",
   "nbconvert_exporter": "python",
   "pygments_lexer": "ipython3",
   "version": "3.11.5"
  }
 },
 "nbformat": 4,
 "nbformat_minor": 5
}
