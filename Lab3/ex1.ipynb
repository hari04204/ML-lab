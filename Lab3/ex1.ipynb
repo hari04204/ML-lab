{
 "cells": [
  {
   "cell_type": "code",
   "execution_count": 28,
   "id": "1ecf6a41",
   "metadata": {},
   "outputs": [],
   "source": [
    "import pandas as pd\n",
    "import numpy as np"
   ]
  },
  {
   "cell_type": "code",
   "execution_count": 29,
   "id": "720448d6",
   "metadata": {},
   "outputs": [],
   "source": [
    "df = pd.read_csv(\"study_data.csv\")"
   ]
  },
  {
   "cell_type": "code",
   "execution_count": 30,
   "id": "afe24b57",
   "metadata": {},
   "outputs": [
    {
     "name": "stdout",
     "output_type": "stream",
     "text": [
      "   Study Hours  Practice Tests  Score\n",
      "0            2               1     60\n",
      "1            3               2     65\n",
      "2            4               2     70\n",
      "3            5               3     75\n",
      "4            6               3     80\n"
     ]
    }
   ],
   "source": [
    "print(df)"
   ]
  },
  {
   "cell_type": "code",
   "execution_count": 31,
   "id": "a9700cd3",
   "metadata": {},
   "outputs": [],
   "source": [
    "X = np.ones(5).reshape(5,1) "
   ]
  },
  {
   "cell_type": "code",
   "execution_count": 32,
   "id": "94484313",
   "metadata": {},
   "outputs": [
    {
     "name": "stdout",
     "output_type": "stream",
     "text": [
      "[[1.]\n",
      " [1.]\n",
      " [1.]\n",
      " [1.]\n",
      " [1.]]\n"
     ]
    }
   ],
   "source": [
    "print(X)"
   ]
  },
  {
   "cell_type": "code",
   "execution_count": 33,
   "id": "d62bd0c5",
   "metadata": {},
   "outputs": [],
   "source": [
    "df_values = df[['Study Hours', 'Practice Tests']].to_numpy()"
   ]
  },
  {
   "cell_type": "code",
   "execution_count": 34,
   "id": "52c9c57c",
   "metadata": {},
   "outputs": [],
   "source": [
    "X = np.hstack((X, df_values))"
   ]
  },
  {
   "cell_type": "code",
   "execution_count": 35,
   "id": "407dab8f",
   "metadata": {},
   "outputs": [
    {
     "name": "stdout",
     "output_type": "stream",
     "text": [
      "[[1. 2. 1.]\n",
      " [1. 3. 2.]\n",
      " [1. 4. 2.]\n",
      " [1. 5. 3.]\n",
      " [1. 6. 3.]]\n"
     ]
    }
   ],
   "source": [
    "print(X)"
   ]
  },
  {
   "cell_type": "code",
   "execution_count": 36,
   "id": "cb7ccfa9",
   "metadata": {},
   "outputs": [],
   "source": [
    "Y = df['Score']"
   ]
  },
  {
   "cell_type": "code",
   "execution_count": 37,
   "id": "af25c5b9",
   "metadata": {},
   "outputs": [
    {
     "data": {
      "text/plain": [
       "0    60\n",
       "1    65\n",
       "2    70\n",
       "3    75\n",
       "4    80\n",
       "Name: Score, dtype: int64"
      ]
     },
     "execution_count": 37,
     "metadata": {},
     "output_type": "execute_result"
    }
   ],
   "source": [
    "Y"
   ]
  },
  {
   "cell_type": "code",
   "execution_count": 38,
   "id": "aeb6ccdf",
   "metadata": {},
   "outputs": [],
   "source": [
    "def calculate_B(X, Y):\n",
    "  \n",
    "    try:\n",
    "        XT_X = X.T @ X\n",
    "        XT_X_inv = np.linalg.inv(XT_X) \n",
    "        XT_Y = X.T @ Y \n",
    "        B = XT_X_inv @ XT_Y\n",
    "        return B\n",
    "    except np.linalg.LinAlgError:\n",
    "        print(\"Error: X^T * X is singular (non-invertible). Cannot calculate B.\")\n",
    "        return None\n",
    "\n",
    "\n",
    "B = calculate_B(X, Y)"
   ]
  },
  {
   "cell_type": "code",
   "execution_count": 39,
   "id": "69af3c2e",
   "metadata": {},
   "outputs": [
    {
     "name": "stdout",
     "output_type": "stream",
     "text": [
      "[ 5.00000000e+01  5.00000000e+00 -4.54747351e-13]\n"
     ]
    }
   ],
   "source": [
    "print(B)"
   ]
  },
  {
   "cell_type": "code",
   "execution_count": null,
   "id": "f60fc7d9",
   "metadata": {},
   "outputs": [],
   "source": []
  }
 ],
 "metadata": {
  "kernelspec": {
   "display_name": "Python 3 (ipykernel)",
   "language": "python",
   "name": "python3"
  },
  "language_info": {
   "codemirror_mode": {
    "name": "ipython",
    "version": 3
   },
   "file_extension": ".py",
   "mimetype": "text/x-python",
   "name": "python",
   "nbconvert_exporter": "python",
   "pygments_lexer": "ipython3",
   "version": "3.11.5"
  }
 },
 "nbformat": 4,
 "nbformat_minor": 5
}
