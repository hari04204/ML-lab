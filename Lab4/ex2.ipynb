{
 "cells": [
  {
   "cell_type": "code",
   "execution_count": 1,
   "metadata": {},
   "outputs": [],
   "source": [
    "import numpy as np\n",
    "import matplotlib.pyplot as plt"
   ]
  },
  {
   "cell_type": "code",
   "execution_count": 2,
   "metadata": {},
   "outputs": [],
   "source": [
    "X_XOR = np.array([[0, 0], [0, 1], [1, 0], [1, 1]])\n",
    "y_XOR = np.array([0, 1, 1, 0])"
   ]
  },
  {
   "cell_type": "code",
   "execution_count": 3,
   "metadata": {},
   "outputs": [
    {
     "name": "stdout",
     "output_type": "stream",
     "text": [
      "Epoch 0, Loss: 0.3268\n",
      "Epoch 1000, Loss: 0.2503\n",
      "Epoch 2000, Loss: 0.2500\n",
      "Epoch 3000, Loss: 0.2500\n",
      "Epoch 4000, Loss: 0.2500\n",
      "Epoch 5000, Loss: 0.2500\n",
      "Epoch 6000, Loss: 0.2500\n",
      "Epoch 7000, Loss: 0.2500\n",
      "Epoch 8000, Loss: 0.2500\n",
      "Epoch 9000, Loss: 0.2500\n",
      "Predictions (SLP): [0. 0. 0. 1.]\n"
     ]
    }
   ],
   "source": [
    "def sigmoid(x):\n",
    "    return 1 / (1 + np.exp(-x))\n",
    "\n",
    "def sigmoid_derivative(x):\n",
    "    return x * (1 - x)\n",
    "\n",
    "weights = np.random.rand(2)\n",
    "bias = np.random.rand(1)\n",
    "learning_rate = 0.1\n",
    "epochs = 10000\n",
    "\n",
    "for epoch in range(epochs):\n",
    "    weighted_sum = np.dot(X_XOR, weights) + bias\n",
    "    predictions = sigmoid(weighted_sum)\n",
    "    error = y_XOR - predictions\n",
    "    loss = np.mean(error ** 2)\n",
    "    d_weights = np.dot(X_XOR.T, error * sigmoid_derivative(predictions)) / len(X_XOR)\n",
    "    d_bias = np.sum(error * sigmoid_derivative(predictions)) / len(X_XOR)\n",
    "    weights += learning_rate * d_weights\n",
    "    bias += learning_rate * d_bias\n",
    "    if epoch % 1000 == 0:\n",
    "        print(f\"Epoch {epoch}, Loss: {loss:.4f}\")\n",
    "\n",
    "def predict(X):\n",
    "    return sigmoid(np.dot(X, weights) + bias)\n",
    "\n",
    "predictions = predict(X_XOR)\n",
    "predictions = np.round(predictions)\n",
    "\n",
    "print(\"Predictions (SLP):\", predictions)"
   ]
  },
  {
   "cell_type": "code",
   "execution_count": 6,
   "metadata": {},
   "outputs": [
    {
     "name": "stdout",
     "output_type": "stream",
     "text": [
      "Epoch 0, Loss: 0.3147\n",
      "Epoch 1000, Loss: 0.2479\n",
      "Epoch 2000, Loss: 0.2420\n",
      "Epoch 3000, Loss: 0.2204\n",
      "Epoch 4000, Loss: 0.1916\n",
      "Epoch 5000, Loss: 0.1784\n",
      "Epoch 6000, Loss: 0.1691\n",
      "Epoch 7000, Loss: 0.0989\n",
      "Epoch 8000, Loss: 0.0234\n",
      "Epoch 9000, Loss: 0.0103\n",
      "Predictions (MLP):\n",
      " [[0.]\n",
      " [1.]\n",
      " [1.]\n",
      " [0.]]\n"
     ]
    }
   ],
   "source": [
    "class MLP:\n",
    "    def __init__(self, input_size, hidden_size, output_size, learning_rate=0.1, epochs=10000):\n",
    "        self.input_size = input_size\n",
    "        self.hidden_size = hidden_size\n",
    "        self.output_size = output_size\n",
    "        self.learning_rate = learning_rate\n",
    "        self.epochs = epochs\n",
    "        \n",
    "        self.weights_input_hidden = np.random.rand(input_size, hidden_size)\n",
    "        self.weights_hidden_output = np.random.rand(hidden_size, output_size)\n",
    "        self.bias_hidden = np.random.rand(hidden_size)\n",
    "        self.bias_output = np.random.rand(output_size)\n",
    "        \n",
    "    def sigmoid(self, x):\n",
    "        return 1 / (1 + np.exp(-x))\n",
    "    \n",
    "    def sigmoid_derivative(self, x):\n",
    "        return x * (1 - x)\n",
    "    \n",
    "    def forward(self, X):\n",
    "        self.hidden_input = np.dot(X, self.weights_input_hidden) + self.bias_hidden\n",
    "        self.hidden_output = self.sigmoid(self.hidden_input)\n",
    "        self.output_input = np.dot(self.hidden_output, self.weights_hidden_output) + self.bias_output\n",
    "        self.output = self.sigmoid(self.output_input)\n",
    "        return self.output\n",
    "    \n",
    "    def backpropagate(self, X, y):\n",
    "        error = y - self.output\n",
    "        output_delta = error * self.sigmoid_derivative(self.output)\n",
    "        hidden_error = output_delta.dot(self.weights_hidden_output.T)\n",
    "        hidden_delta = hidden_error * self.sigmoid_derivative(self.hidden_output)\n",
    "        \n",
    "        self.weights_hidden_output += self.hidden_output.T.dot(output_delta) * self.learning_rate\n",
    "        self.weights_input_hidden += X.T.dot(hidden_delta) * self.learning_rate\n",
    "        self.bias_output += np.sum(output_delta, axis=0) * self.learning_rate\n",
    "        self.bias_hidden += np.sum(hidden_delta, axis=0) * self.learning_rate\n",
    "    \n",
    "    def train(self, X, y):\n",
    "        for epoch in range(self.epochs):\n",
    "            self.forward(X)\n",
    "            self.backpropagate(X, y)\n",
    "            if epoch % 1000 == 0:\n",
    "                loss = np.mean(np.square(y - self.output))\n",
    "                print(f\"Epoch {epoch}, Loss: {loss:.4f}\")\n",
    "                \n",
    "    def predict(self, X):\n",
    "        return np.round(self.forward(X))\n",
    "\n",
    "X_XOR = np.array([[0, 0], [0, 1], [1, 0], [1, 1]])\n",
    "y_XOR = np.array([[0], [1], [1], [0]])\n",
    "\n",
    "mlp = MLP(input_size=2, hidden_size=2, output_size=1, learning_rate=0.1, epochs=10000)\n",
    "mlp.train(X_XOR, y_XOR)\n",
    "\n",
    "predictions = mlp.predict(X_XOR)\n",
    "print(\"Predictions (MLP):\\n\", predictions)"
   ]
  }
 ],
 "metadata": {
  "kernelspec": {
   "display_name": "Python 3",
   "language": "python",
   "name": "python3"
  },
  "language_info": {
   "codemirror_mode": {
    "name": "ipython",
    "version": 3
   },
   "file_extension": ".py",
   "mimetype": "text/x-python",
   "name": "python",
   "nbconvert_exporter": "python",
   "pygments_lexer": "ipython3",
   "version": "3.13.1"
  }
 },
 "nbformat": 4,
 "nbformat_minor": 2
}
