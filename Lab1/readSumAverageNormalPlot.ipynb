{
 "cells": [
  {
   "cell_type": "code",
   "execution_count": 92,
   "id": "5f7d72f5",
   "metadata": {},
   "outputs": [],
   "source": [
    "import pandas as pd\n",
    "import matplotlib as plt"
   ]
  },
  {
   "cell_type": "code",
   "execution_count": 26,
   "id": "cf010f2c",
   "metadata": {},
   "outputs": [],
   "source": [
    "df = pd.read_excel('dataset1.xlsx')"
   ]
  },
  {
   "cell_type": "code",
   "execution_count": 27,
   "id": "6a70a65d",
   "metadata": {
    "scrolled": true
   },
   "outputs": [
    {
     "name": "stdout",
     "output_type": "stream",
     "text": [
      "   Student  M1  M2  M3   M4  M5\n",
      "0        1   7   8   5  NaN   6\n",
      "1        2   4   6   7  5.0   8\n",
      "2        3   9   5   6  8.0   7\n",
      "3        4   6   9   8  7.0   5\n",
      "4        5   8   7   9  6.0   4\n",
      "5        6   5   8   4  9.0   7\n",
      "6        7   7   6   9  5.0   8\n",
      "7        8   6   7   5  8.0   9\n",
      "8        9   8   9   6  7.0   5\n",
      "9       10   4   5   7  6.0   9\n"
     ]
    }
   ],
   "source": [
    "print(df)"
   ]
  },
  {
   "cell_type": "code",
   "execution_count": 22,
   "id": "8db46836",
   "metadata": {},
   "outputs": [
    {
     "name": "stdout",
     "output_type": "stream",
     "text": [
      "0    7\n",
      "1    4\n",
      "2    9\n",
      "3    6\n",
      "4    8\n",
      "5    5\n",
      "6    7\n",
      "7    6\n",
      "8    8\n",
      "9    4\n",
      "Name: M1, dtype: int64\n"
     ]
    }
   ],
   "source": [
    "print(df['M1'])"
   ]
  },
  {
   "cell_type": "code",
   "execution_count": 65,
   "id": "4c813a53",
   "metadata": {},
   "outputs": [
    {
     "name": "stdout",
     "output_type": "stream",
     "text": [
      "9\n"
     ]
    }
   ],
   "source": [
    "print(max(df['M1']))"
   ]
  },
  {
   "cell_type": "code",
   "execution_count": 66,
   "id": "749a509f",
   "metadata": {},
   "outputs": [
    {
     "name": "stdout",
     "output_type": "stream",
     "text": [
      "6.4\n"
     ]
    }
   ],
   "source": [
    "print(sum(df['M1'])/len(df['M1']))"
   ]
  },
  {
   "cell_type": "code",
   "execution_count": 67,
   "id": "7a557675",
   "metadata": {},
   "outputs": [
    {
     "name": "stdout",
     "output_type": "stream",
     "text": [
      "6.4\n"
     ]
    }
   ],
   "source": [
    "print(df['M1'].mean())"
   ]
  },
  {
   "cell_type": "code",
   "execution_count": 68,
   "id": "36ff90bf",
   "metadata": {},
   "outputs": [],
   "source": [
    "df['Mean'] = df.iloc[:, 1:].mean(axis=1)"
   ]
  },
  {
   "cell_type": "code",
   "execution_count": 69,
   "id": "cada4a99",
   "metadata": {},
   "outputs": [
    {
     "data": {
      "text/plain": [
       "0    6.4\n",
       "1    6.0\n",
       "2    7.0\n",
       "3    7.0\n",
       "4    6.8\n",
       "5    6.6\n",
       "6    7.0\n",
       "7    7.0\n",
       "8    7.0\n",
       "9    6.2\n",
       "Name: Mean, dtype: float64"
      ]
     },
     "execution_count": 69,
     "metadata": {},
     "output_type": "execute_result"
    }
   ],
   "source": [
    "df['Mean']"
   ]
  },
  {
   "cell_type": "code",
   "execution_count": 39,
   "id": "0ba57b0b",
   "metadata": {},
   "outputs": [
    {
     "data": {
      "text/plain": [
       "Student    5.500000\n",
       "M1         6.400000\n",
       "M2         7.000000\n",
       "M3         6.600000\n",
       "M4         6.777778\n",
       "M5         6.800000\n",
       "dtype: float64"
      ]
     },
     "execution_count": 39,
     "metadata": {},
     "output_type": "execute_result"
    }
   ],
   "source": [
    "mean = df.mean()\n",
    "mean"
   ]
  },
  {
   "cell_type": "code",
   "execution_count": 41,
   "id": "bb6f8330",
   "metadata": {},
   "outputs": [
    {
     "data": {
      "text/html": [
       "<div>\n",
       "<style scoped>\n",
       "    .dataframe tbody tr th:only-of-type {\n",
       "        vertical-align: middle;\n",
       "    }\n",
       "\n",
       "    .dataframe tbody tr th {\n",
       "        vertical-align: top;\n",
       "    }\n",
       "\n",
       "    .dataframe thead th {\n",
       "        text-align: right;\n",
       "    }\n",
       "</style>\n",
       "<table border=\"1\" class=\"dataframe\">\n",
       "  <thead>\n",
       "    <tr style=\"text-align: right;\">\n",
       "      <th></th>\n",
       "      <th>Student</th>\n",
       "      <th>M1</th>\n",
       "      <th>M2</th>\n",
       "      <th>M3</th>\n",
       "      <th>M4</th>\n",
       "      <th>M5</th>\n",
       "    </tr>\n",
       "  </thead>\n",
       "  <tbody>\n",
       "    <tr>\n",
       "      <th>0</th>\n",
       "      <td>1</td>\n",
       "      <td>7</td>\n",
       "      <td>8</td>\n",
       "      <td>5</td>\n",
       "      <td>6.777778</td>\n",
       "      <td>6</td>\n",
       "    </tr>\n",
       "    <tr>\n",
       "      <th>1</th>\n",
       "      <td>2</td>\n",
       "      <td>4</td>\n",
       "      <td>6</td>\n",
       "      <td>7</td>\n",
       "      <td>5.000000</td>\n",
       "      <td>8</td>\n",
       "    </tr>\n",
       "    <tr>\n",
       "      <th>2</th>\n",
       "      <td>3</td>\n",
       "      <td>9</td>\n",
       "      <td>5</td>\n",
       "      <td>6</td>\n",
       "      <td>8.000000</td>\n",
       "      <td>7</td>\n",
       "    </tr>\n",
       "    <tr>\n",
       "      <th>3</th>\n",
       "      <td>4</td>\n",
       "      <td>6</td>\n",
       "      <td>9</td>\n",
       "      <td>8</td>\n",
       "      <td>7.000000</td>\n",
       "      <td>5</td>\n",
       "    </tr>\n",
       "    <tr>\n",
       "      <th>4</th>\n",
       "      <td>5</td>\n",
       "      <td>8</td>\n",
       "      <td>7</td>\n",
       "      <td>9</td>\n",
       "      <td>6.000000</td>\n",
       "      <td>4</td>\n",
       "    </tr>\n",
       "    <tr>\n",
       "      <th>5</th>\n",
       "      <td>6</td>\n",
       "      <td>5</td>\n",
       "      <td>8</td>\n",
       "      <td>4</td>\n",
       "      <td>9.000000</td>\n",
       "      <td>7</td>\n",
       "    </tr>\n",
       "    <tr>\n",
       "      <th>6</th>\n",
       "      <td>7</td>\n",
       "      <td>7</td>\n",
       "      <td>6</td>\n",
       "      <td>9</td>\n",
       "      <td>5.000000</td>\n",
       "      <td>8</td>\n",
       "    </tr>\n",
       "    <tr>\n",
       "      <th>7</th>\n",
       "      <td>8</td>\n",
       "      <td>6</td>\n",
       "      <td>7</td>\n",
       "      <td>5</td>\n",
       "      <td>8.000000</td>\n",
       "      <td>9</td>\n",
       "    </tr>\n",
       "    <tr>\n",
       "      <th>8</th>\n",
       "      <td>9</td>\n",
       "      <td>8</td>\n",
       "      <td>9</td>\n",
       "      <td>6</td>\n",
       "      <td>7.000000</td>\n",
       "      <td>5</td>\n",
       "    </tr>\n",
       "    <tr>\n",
       "      <th>9</th>\n",
       "      <td>10</td>\n",
       "      <td>4</td>\n",
       "      <td>5</td>\n",
       "      <td>7</td>\n",
       "      <td>6.000000</td>\n",
       "      <td>9</td>\n",
       "    </tr>\n",
       "  </tbody>\n",
       "</table>\n",
       "</div>"
      ],
      "text/plain": [
       "   Student  M1  M2  M3        M4  M5\n",
       "0        1   7   8   5  6.777778   6\n",
       "1        2   4   6   7  5.000000   8\n",
       "2        3   9   5   6  8.000000   7\n",
       "3        4   6   9   8  7.000000   5\n",
       "4        5   8   7   9  6.000000   4\n",
       "5        6   5   8   4  9.000000   7\n",
       "6        7   7   6   9  5.000000   8\n",
       "7        8   6   7   5  8.000000   9\n",
       "8        9   8   9   6  7.000000   5\n",
       "9       10   4   5   7  6.000000   9"
      ]
     },
     "execution_count": 41,
     "metadata": {},
     "output_type": "execute_result"
    }
   ],
   "source": [
    "df.apply( lambda x: x.apply( lambda y: mean[x.name] if pd.isna(y) else y))"
   ]
  },
  {
   "cell_type": "code",
   "execution_count": 74,
   "id": "226e14d2",
   "metadata": {},
   "outputs": [],
   "source": [
    "df['Sum'] = df[['M1','M2','M3','M4','M5']].sum(axis = 1)"
   ]
  },
  {
   "cell_type": "code",
   "execution_count": 75,
   "id": "505d3460",
   "metadata": {},
   "outputs": [
    {
     "name": "stdout",
     "output_type": "stream",
     "text": [
      "   Student  M1  M2  M3  M4  M5  Mean  Sum\n",
      "0        1   7   8   5   6   6   6.4   32\n",
      "1        2   4   6   7   5   8   6.0   30\n",
      "2        3   9   5   6   8   7   7.0   35\n",
      "3        4   6   9   8   7   5   7.0   35\n",
      "4        5   8   7   9   6   4   6.8   34\n",
      "5        6   5   8   4   9   7   6.6   33\n",
      "6        7   7   6   9   5   8   7.0   35\n",
      "7        8   6   7   5   8   9   7.0   35\n",
      "8        9   8   9   6   7   5   7.0   35\n",
      "9       10   4   5   7   6   9   6.2   31\n"
     ]
    }
   ],
   "source": [
    "print(df)"
   ]
  },
  {
   "cell_type": "code",
   "execution_count": 79,
   "id": "6fbe4d55",
   "metadata": {},
   "outputs": [],
   "source": [
    "df['Normal'] = ((df['Sum'] - df['Sum'].min()) / (df['Sum'].max() - df['Sum'].min())).round(2)"
   ]
  },
  {
   "cell_type": "code",
   "execution_count": 80,
   "id": "a66cfbfc",
   "metadata": {},
   "outputs": [
    {
     "name": "stdout",
     "output_type": "stream",
     "text": [
      "   Student  M1  M2  M3  M4  M5  Mean  Sum  Normal\n",
      "0        1   7   8   5   6   6   6.4   32     0.4\n",
      "1        2   4   6   7   5   8   6.0   30     0.0\n",
      "2        3   9   5   6   8   7   7.0   35     1.0\n",
      "3        4   6   9   8   7   5   7.0   35     1.0\n",
      "4        5   8   7   9   6   4   6.8   34     0.8\n",
      "5        6   5   8   4   9   7   6.6   33     0.6\n",
      "6        7   7   6   9   5   8   7.0   35     1.0\n",
      "7        8   6   7   5   8   9   7.0   35     1.0\n",
      "8        9   8   9   6   7   5   7.0   35     1.0\n",
      "9       10   4   5   7   6   9   6.2   31     0.2\n"
     ]
    }
   ],
   "source": [
    "print(df)"
   ]
  },
  {
   "cell_type": "code",
   "execution_count": 76,
   "id": "9548056e",
   "metadata": {},
   "outputs": [],
   "source": [
    "df['Normal'] = ((df['Sum'] - df['Sum'].min())/(df['Sum'].max() - df['Sum'].min()))"
   ]
  },
  {
   "cell_type": "code",
   "execution_count": 82,
   "id": "96a0c61c",
   "metadata": {},
   "outputs": [
    {
     "data": {
      "text/html": [
       "<div>\n",
       "<style scoped>\n",
       "    .dataframe tbody tr th:only-of-type {\n",
       "        vertical-align: middle;\n",
       "    }\n",
       "\n",
       "    .dataframe tbody tr th {\n",
       "        vertical-align: top;\n",
       "    }\n",
       "\n",
       "    .dataframe thead th {\n",
       "        text-align: right;\n",
       "    }\n",
       "</style>\n",
       "<table border=\"1\" class=\"dataframe\">\n",
       "  <thead>\n",
       "    <tr style=\"text-align: right;\">\n",
       "      <th></th>\n",
       "      <th>Student</th>\n",
       "      <th>M1</th>\n",
       "      <th>M2</th>\n",
       "      <th>M3</th>\n",
       "      <th>M4</th>\n",
       "      <th>M5</th>\n",
       "      <th>Mean</th>\n",
       "      <th>Sum</th>\n",
       "      <th>Normal</th>\n",
       "    </tr>\n",
       "  </thead>\n",
       "  <tbody>\n",
       "    <tr>\n",
       "      <th>0</th>\n",
       "      <td>1</td>\n",
       "      <td>7</td>\n",
       "      <td>8</td>\n",
       "      <td>5</td>\n",
       "      <td>6</td>\n",
       "      <td>6</td>\n",
       "      <td>6.4</td>\n",
       "      <td>32</td>\n",
       "      <td>0.4</td>\n",
       "    </tr>\n",
       "    <tr>\n",
       "      <th>1</th>\n",
       "      <td>2</td>\n",
       "      <td>4</td>\n",
       "      <td>6</td>\n",
       "      <td>7</td>\n",
       "      <td>5</td>\n",
       "      <td>8</td>\n",
       "      <td>6.0</td>\n",
       "      <td>30</td>\n",
       "      <td>0.0</td>\n",
       "    </tr>\n",
       "    <tr>\n",
       "      <th>2</th>\n",
       "      <td>3</td>\n",
       "      <td>9</td>\n",
       "      <td>5</td>\n",
       "      <td>6</td>\n",
       "      <td>8</td>\n",
       "      <td>7</td>\n",
       "      <td>7.0</td>\n",
       "      <td>35</td>\n",
       "      <td>1.0</td>\n",
       "    </tr>\n",
       "    <tr>\n",
       "      <th>3</th>\n",
       "      <td>4</td>\n",
       "      <td>6</td>\n",
       "      <td>9</td>\n",
       "      <td>8</td>\n",
       "      <td>7</td>\n",
       "      <td>5</td>\n",
       "      <td>7.0</td>\n",
       "      <td>35</td>\n",
       "      <td>1.0</td>\n",
       "    </tr>\n",
       "    <tr>\n",
       "      <th>4</th>\n",
       "      <td>5</td>\n",
       "      <td>8</td>\n",
       "      <td>7</td>\n",
       "      <td>9</td>\n",
       "      <td>6</td>\n",
       "      <td>4</td>\n",
       "      <td>6.8</td>\n",
       "      <td>34</td>\n",
       "      <td>0.8</td>\n",
       "    </tr>\n",
       "    <tr>\n",
       "      <th>5</th>\n",
       "      <td>6</td>\n",
       "      <td>5</td>\n",
       "      <td>8</td>\n",
       "      <td>4</td>\n",
       "      <td>9</td>\n",
       "      <td>7</td>\n",
       "      <td>6.6</td>\n",
       "      <td>33</td>\n",
       "      <td>0.6</td>\n",
       "    </tr>\n",
       "    <tr>\n",
       "      <th>6</th>\n",
       "      <td>7</td>\n",
       "      <td>7</td>\n",
       "      <td>6</td>\n",
       "      <td>9</td>\n",
       "      <td>5</td>\n",
       "      <td>8</td>\n",
       "      <td>7.0</td>\n",
       "      <td>35</td>\n",
       "      <td>1.0</td>\n",
       "    </tr>\n",
       "    <tr>\n",
       "      <th>7</th>\n",
       "      <td>8</td>\n",
       "      <td>6</td>\n",
       "      <td>7</td>\n",
       "      <td>5</td>\n",
       "      <td>8</td>\n",
       "      <td>9</td>\n",
       "      <td>7.0</td>\n",
       "      <td>35</td>\n",
       "      <td>1.0</td>\n",
       "    </tr>\n",
       "    <tr>\n",
       "      <th>8</th>\n",
       "      <td>9</td>\n",
       "      <td>8</td>\n",
       "      <td>9</td>\n",
       "      <td>6</td>\n",
       "      <td>7</td>\n",
       "      <td>5</td>\n",
       "      <td>7.0</td>\n",
       "      <td>35</td>\n",
       "      <td>1.0</td>\n",
       "    </tr>\n",
       "    <tr>\n",
       "      <th>9</th>\n",
       "      <td>10</td>\n",
       "      <td>4</td>\n",
       "      <td>5</td>\n",
       "      <td>7</td>\n",
       "      <td>6</td>\n",
       "      <td>9</td>\n",
       "      <td>6.2</td>\n",
       "      <td>31</td>\n",
       "      <td>0.2</td>\n",
       "    </tr>\n",
       "  </tbody>\n",
       "</table>\n",
       "</div>"
      ],
      "text/plain": [
       "   Student  M1  M2  M3  M4  M5  Mean  Sum  Normal\n",
       "0        1   7   8   5   6   6   6.4   32     0.4\n",
       "1        2   4   6   7   5   8   6.0   30     0.0\n",
       "2        3   9   5   6   8   7   7.0   35     1.0\n",
       "3        4   6   9   8   7   5   7.0   35     1.0\n",
       "4        5   8   7   9   6   4   6.8   34     0.8\n",
       "5        6   5   8   4   9   7   6.6   33     0.6\n",
       "6        7   7   6   9   5   8   7.0   35     1.0\n",
       "7        8   6   7   5   8   9   7.0   35     1.0\n",
       "8        9   8   9   6   7   5   7.0   35     1.0\n",
       "9       10   4   5   7   6   9   6.2   31     0.2"
      ]
     },
     "execution_count": 82,
     "metadata": {},
     "output_type": "execute_result"
    }
   ],
   "source": [
    "df"
   ]
  },
  {
   "cell_type": "code",
   "execution_count": 94,
   "id": "4a096ab8",
   "metadata": {},
   "outputs": [
    {
     "data": {
      "text/plain": [
       "<Axes: >"
      ]
     },
     "execution_count": 94,
     "metadata": {},
     "output_type": "execute_result"
    },
    {
     "data": {
      "image/png": "[encoded data removed]",
      "text/plain": [
       "<Figure size 1000x600 with 1 Axes>"
      ]
     },
     "metadata": {},
     "output_type": "display_data"
    }
   ],
   "source": [
    "df[['M1','M2','M3','M4','M5']].plot(kind='bar', figsize=(10,6))"
   ]
  },
  {
   "cell_type": "code",
   "execution_count": null,
   "id": "59a720ee",
   "metadata": {},
   "outputs": [],
   "source": []
  }
 ],
 "metadata": {
  "kernelspec": {
   "display_name": "Python 3 (ipykernel)",
   "language": "python",
   "name": "python3"
  },
  "language_info": {
   "codemirror_mode": {
    "name": "ipython",
    "version": 3
   },
   "file_extension": ".py",
   "mimetype": "text/x-python",
   "name": "python",
   "nbconvert_exporter": "python",
   "pygments_lexer": "ipython3",
   "version": "3.10.9"
  }
 },
 "nbformat": 4,
 "nbformat_minor": 5
}
