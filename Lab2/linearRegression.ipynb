{
 "cells": [
  {
   "cell_type": "code",
   "execution_count": 39,
   "id": "377d5fd5",
   "metadata": {},
   "outputs": [],
   "source": [
    "import pandas as pd"
   ]
  },
  {
   "cell_type": "code",
   "execution_count": 40,
   "id": "7e89c0e8",
   "metadata": {},
   "outputs": [],
   "source": [
    "df = pd.read_excel(\"ds2.xlsx\")"
   ]
  },
  {
   "cell_type": "code",
   "execution_count": 41,
   "id": "465d72b5",
   "metadata": {},
   "outputs": [
    {
     "data": {
      "text/html": [
       "<div>\n",
       "<style scoped>\n",
       "    .dataframe tbody tr th:only-of-type {\n",
       "        vertical-align: middle;\n",
       "    }\n",
       "\n",
       "    .dataframe tbody tr th {\n",
       "        vertical-align: top;\n",
       "    }\n",
       "\n",
       "    .dataframe thead th {\n",
       "        text-align: right;\n",
       "    }\n",
       "</style>\n",
       "<table border=\"1\" class=\"dataframe\">\n",
       "  <thead>\n",
       "    <tr style=\"text-align: right;\">\n",
       "      <th></th>\n",
       "      <th>x</th>\n",
       "      <th>y</th>\n",
       "    </tr>\n",
       "  </thead>\n",
       "  <tbody>\n",
       "    <tr>\n",
       "      <th>0</th>\n",
       "      <td>2</td>\n",
       "      <td>69</td>\n",
       "    </tr>\n",
       "    <tr>\n",
       "      <th>1</th>\n",
       "      <td>9</td>\n",
       "      <td>98</td>\n",
       "    </tr>\n",
       "    <tr>\n",
       "      <th>2</th>\n",
       "      <td>5</td>\n",
       "      <td>82</td>\n",
       "    </tr>\n",
       "    <tr>\n",
       "      <th>3</th>\n",
       "      <td>5</td>\n",
       "      <td>77</td>\n",
       "    </tr>\n",
       "    <tr>\n",
       "      <th>4</th>\n",
       "      <td>3</td>\n",
       "      <td>71</td>\n",
       "    </tr>\n",
       "    <tr>\n",
       "      <th>5</th>\n",
       "      <td>7</td>\n",
       "      <td>84</td>\n",
       "    </tr>\n",
       "    <tr>\n",
       "      <th>6</th>\n",
       "      <td>1</td>\n",
       "      <td>55</td>\n",
       "    </tr>\n",
       "    <tr>\n",
       "      <th>7</th>\n",
       "      <td>8</td>\n",
       "      <td>94</td>\n",
       "    </tr>\n",
       "    <tr>\n",
       "      <th>8</th>\n",
       "      <td>6</td>\n",
       "      <td>84</td>\n",
       "    </tr>\n",
       "    <tr>\n",
       "      <th>9</th>\n",
       "      <td>2</td>\n",
       "      <td>64</td>\n",
       "    </tr>\n",
       "  </tbody>\n",
       "</table>\n",
       "</div>"
      ],
      "text/plain": [
       "   x   y\n",
       "0  2  69\n",
       "1  9  98\n",
       "2  5  82\n",
       "3  5  77\n",
       "4  3  71\n",
       "5  7  84\n",
       "6  1  55\n",
       "7  8  94\n",
       "8  6  84\n",
       "9  2  64"
      ]
     },
     "execution_count": 41,
     "metadata": {},
     "output_type": "execute_result"
    }
   ],
   "source": [
    "df"
   ]
  },
  {
   "cell_type": "code",
   "execution_count": 42,
   "id": "2de5330c",
   "metadata": {},
   "outputs": [],
   "source": [
    "x_mean = df['x'].mean()"
   ]
  },
  {
   "cell_type": "code",
   "execution_count": 43,
   "id": "799b104e",
   "metadata": {},
   "outputs": [
    {
     "data": {
      "text/plain": [
       "4.8"
      ]
     },
     "execution_count": 43,
     "metadata": {},
     "output_type": "execute_result"
    }
   ],
   "source": [
    "x_mean"
   ]
  },
  {
   "cell_type": "code",
   "execution_count": 44,
   "id": "e97c805f",
   "metadata": {},
   "outputs": [],
   "source": [
    "y_mean = df['y'].mean()"
   ]
  },
  {
   "cell_type": "code",
   "execution_count": 45,
   "id": "2e245da0",
   "metadata": {},
   "outputs": [
    {
     "data": {
      "text/plain": [
       "77.8"
      ]
     },
     "execution_count": 45,
     "metadata": {},
     "output_type": "execute_result"
    }
   ],
   "source": [
    "y_mean"
   ]
  },
  {
   "cell_type": "code",
   "execution_count": 46,
   "id": "95aa2fd3",
   "metadata": {},
   "outputs": [],
   "source": [
    "df[\"x-x̄\"] = df[\"x\"] - x_mean"
   ]
  },
  {
   "cell_type": "code",
   "execution_count": 47,
   "id": "a05a4f5c",
   "metadata": {},
   "outputs": [],
   "source": [
    "df[\"y-ȳ\"] = df['y'] - y_mean"
   ]
  },
  {
   "cell_type": "code",
   "execution_count": 48,
   "id": "df8c0d92",
   "metadata": {},
   "outputs": [
    {
     "data": {
      "text/plain": [
       "0   -2.8\n",
       "1    4.2\n",
       "2    0.2\n",
       "3    0.2\n",
       "4   -1.8\n",
       "5    2.2\n",
       "6   -3.8\n",
       "7    3.2\n",
       "8    1.2\n",
       "9   -2.8\n",
       "Name: x-x̄, dtype: float64"
      ]
     },
     "execution_count": 48,
     "metadata": {},
     "output_type": "execute_result"
    }
   ],
   "source": [
    "df[\"x-x̄\"]"
   ]
  },
  {
   "cell_type": "code",
   "execution_count": 49,
   "id": "1dcd739a",
   "metadata": {},
   "outputs": [
    {
     "data": {
      "text/plain": [
       "0    -8.8\n",
       "1    20.2\n",
       "2     4.2\n",
       "3    -0.8\n",
       "4    -6.8\n",
       "5     6.2\n",
       "6   -22.8\n",
       "7    16.2\n",
       "8     6.2\n",
       "9   -13.8\n",
       "Name: y-ȳ, dtype: float64"
      ]
     },
     "execution_count": 49,
     "metadata": {},
     "output_type": "execute_result"
    }
   ],
   "source": [
    "df[\"y-ȳ\"]"
   ]
  },
  {
   "cell_type": "code",
   "execution_count": 50,
   "id": "b4132db6",
   "metadata": {},
   "outputs": [],
   "source": [
    "df[\"xbar_ybar\"] = df[\"x-x̄\"] * df[\"y-ȳ\"]"
   ]
  },
  {
   "cell_type": "code",
   "execution_count": 51,
   "id": "aca33576",
   "metadata": {},
   "outputs": [],
   "source": [
    "sum_xbar_ybar = df[\"xbar_ybar\"].sum()"
   ]
  },
  {
   "cell_type": "code",
   "execution_count": 52,
   "id": "09e4918e",
   "metadata": {},
   "outputs": [
    {
     "data": {
      "text/plain": [
       "320.59999999999997"
      ]
     },
     "execution_count": 52,
     "metadata": {},
     "output_type": "execute_result"
    }
   ],
   "source": [
    "sum_xbar_ybar"
   ]
  },
  {
   "cell_type": "code",
   "execution_count": 53,
   "id": "363ba3a5",
   "metadata": {},
   "outputs": [],
   "source": [
    "df[\"xbar_xbar\"] = df[\"x-x̄\"] * df[\"x-x̄\"]"
   ]
  },
  {
   "cell_type": "code",
   "execution_count": 54,
   "id": "415fbbea",
   "metadata": {},
   "outputs": [],
   "source": [
    "sum_xbar_xbar = df[\"xbar_xbar\"].sum()"
   ]
  },
  {
   "cell_type": "code",
   "execution_count": 55,
   "id": "651162a8",
   "metadata": {},
   "outputs": [
    {
     "data": {
      "text/plain": [
       "67.6"
      ]
     },
     "execution_count": 55,
     "metadata": {},
     "output_type": "execute_result"
    }
   ],
   "source": [
    "sum_xbar_xbar"
   ]
  },
  {
   "cell_type": "code",
   "execution_count": 56,
   "id": "8b9b890c",
   "metadata": {},
   "outputs": [],
   "source": [
    "b = sum_xbar_ybar/sum_xbar_xbar"
   ]
  },
  {
   "cell_type": "code",
   "execution_count": 57,
   "id": "7a743c16",
   "metadata": {},
   "outputs": [
    {
     "data": {
      "text/plain": [
       "4.742603550295858"
      ]
     },
     "execution_count": 57,
     "metadata": {},
     "output_type": "execute_result"
    }
   ],
   "source": [
    "b"
   ]
  },
  {
   "cell_type": "code",
   "execution_count": 58,
   "id": "1fa2c58f",
   "metadata": {},
   "outputs": [],
   "source": [
    "a = y_mean - (b*x_mean)"
   ]
  },
  {
   "cell_type": "code",
   "execution_count": 59,
   "id": "b0438883",
   "metadata": {},
   "outputs": [
    {
     "data": {
      "text/plain": [
       "55.03550295857988"
      ]
     },
     "execution_count": 59,
     "metadata": {},
     "output_type": "execute_result"
    }
   ],
   "source": [
    "a"
   ]
  },
  {
   "cell_type": "code",
   "execution_count": 60,
   "id": "9d04015b",
   "metadata": {},
   "outputs": [],
   "source": [
    "df[\"ycap\"] = a + b*df[\"x\"]"
   ]
  },
  {
   "cell_type": "code",
   "execution_count": 62,
   "id": "dcee2c6a",
   "metadata": {},
   "outputs": [
    {
     "data": {
      "text/plain": [
       "0    64.520710\n",
       "1    97.718935\n",
       "2    78.748521\n",
       "3    78.748521\n",
       "4    69.263314\n",
       "5    88.233728\n",
       "6    59.778107\n",
       "7    92.976331\n",
       "8    83.491124\n",
       "9    64.520710\n",
       "Name: ycap, dtype: float64"
      ]
     },
     "execution_count": 62,
     "metadata": {},
     "output_type": "execute_result"
    }
   ],
   "source": [
    "df[\"ycap\"]"
   ]
  },
  {
   "cell_type": "code",
   "execution_count": 63,
   "id": "b06dafc8",
   "metadata": {},
   "outputs": [],
   "source": [
    "df.to_excel(\"ans.xlsx\")"
   ]
  },
  {
   "cell_type": "code",
   "execution_count": null,
   "id": "9637deb4",
   "metadata": {},
   "outputs": [],
   "source": []
  }
 ],
 "metadata": {
  "kernelspec": {
   "display_name": "Python 3 (ipykernel)",
   "language": "python",
   "name": "python3"
  },
  "language_info": {
   "codemirror_mode": {
    "name": "ipython",
    "version": 3
   },
   "file_extension": ".py",
   "mimetype": "text/x-python",
   "name": "python",
   "nbconvert_exporter": "python",
   "pygments_lexer": "ipython3",
   "version": "3.11.5"
  }
 },
 "nbformat": 4,
 "nbformat_minor": 5
}
